{
 "cells": [
  {
   "cell_type": "code",
   "execution_count": 19,
   "metadata": {},
   "outputs": [
    {
     "name": "stdout",
     "output_type": "stream",
     "text": [
      "adição -> 2\n",
      "subtração -> 2\n",
      "multiplicação - > 6\n",
      "potência -> 9\n"
     ]
    }
   ],
   "source": [
    "# Aplicando operações matemáticas e convertendo em string\n",
    "\n",
    "print('adição -> ' + str (1+1))\n",
    "print('subtração -> ' + str(4-2))\n",
    "print('multiplicação - > ' + str(2*3))\n",
    "print('potência -> '+str(3**2))"
   ]
  },
  {
   "cell_type": "code",
   "execution_count": 4,
   "metadata": {},
   "outputs": [
    {
     "data": {
      "text/plain": [
       "'200'"
      ]
     },
     "execution_count": 4,
     "metadata": {},
     "output_type": "execute_result"
    }
   ],
   "source": [
    "# Testando o conceito de váriavel\n",
    "\n",
    "x = 150\n",
    "\n",
    "y = 50\n",
    "\n",
    "result = x + y\n",
    "\n",
    "str(result)"
   ]
  },
  {
   "cell_type": "code",
   "execution_count": 17,
   "metadata": {},
   "outputs": [
    {
     "data": {
      "text/plain": [
       "'Bre'"
      ]
     },
     "execution_count": 17,
     "metadata": {},
     "output_type": "execute_result"
    }
   ],
   "source": [
    "#pegando posições de uma String\n",
    "\n",
    "'Breno'[0:3]"
   ]
  },
  {
   "cell_type": "code",
   "execution_count": 30,
   "metadata": {},
   "outputs": [
    {
     "data": {
      "text/plain": [
       "'Fui visitar a italia e comi uma pizza depois outra pizza'"
      ]
     },
     "execution_count": 30,
     "metadata": {},
     "output_type": "execute_result"
    }
   ],
   "source": [
    "#utilizando o format e evitando repetições\n",
    "\n",
    "'Fui visitar a {0} e comi uma {1} depois outra {1}'.format('italia','pizza')"
   ]
  },
  {
   "cell_type": "code",
   "execution_count": 38,
   "metadata": {},
   "outputs": [
    {
     "data": {
      "text/plain": [
       "'32.5'"
      ]
     },
     "execution_count": 38,
     "metadata": {},
     "output_type": "execute_result"
    }
   ],
   "source": [
    "#formatando numeros \n",
    "\n",
    "'{:2.1f}'.format(32.50000000000)"
   ]
  }
 ],
 "metadata": {
  "kernelspec": {
   "display_name": "Python 3",
   "language": "python",
   "name": "python3"
  },
  "language_info": {
   "codemirror_mode": {
    "name": "ipython",
    "version": 3
   },
   "file_extension": ".py",
   "mimetype": "text/x-python",
   "name": "python",
   "nbconvert_exporter": "python",
   "pygments_lexer": "ipython3",
   "version": "3.7.3"
  }
 },
 "nbformat": 4,
 "nbformat_minor": 2
}
