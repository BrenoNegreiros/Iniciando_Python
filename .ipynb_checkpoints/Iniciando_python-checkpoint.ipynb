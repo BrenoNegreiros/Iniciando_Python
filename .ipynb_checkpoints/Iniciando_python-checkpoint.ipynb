{
 "cells": [
  {
   "cell_type": "code",
   "execution_count": 19,
   "metadata": {},
   "outputs": [
    {
     "name": "stdout",
     "output_type": "stream",
     "text": [
      "adição -> 2\n",
      "subtração -> 2\n",
      "multiplicação - > 6\n",
      "potência -> 9\n"
     ]
    }
   ],
   "source": [
    "# Aplicando operações matemáticas e convertendo em string\n",
    "\n",
    "print('adição -> ' + str (1+1))\n",
    "print('subtração -> ' + str(4-2))\n",
    "print('multiplicação - > ' + str(2*3))\n",
    "print('potência -> '+str(3**2))"
   ]
  },
  {
   "cell_type": "code",
   "execution_count": 4,
   "metadata": {},
   "outputs": [
    {
     "data": {
      "text/plain": [
       "'200'"
      ]
     },
     "execution_count": 4,
     "metadata": {},
     "output_type": "execute_result"
    }
   ],
   "source": [
    "# Testando o conceito de váriavel\n",
    "\n",
    "x = 150\n",
    "\n",
    "y = 50\n",
    "\n",
    "result = x + y\n",
    "\n",
    "str(result)"
   ]
  },
  {
   "cell_type": "code",
   "execution_count": 17,
   "metadata": {},
   "outputs": [
    {
     "data": {
      "text/plain": [
       "'Bre'"
      ]
     },
     "execution_count": 17,
     "metadata": {},
     "output_type": "execute_result"
    }
   ],
   "source": [
    "#pegando posições de uma String\n",
    "\n",
    "'Breno'[0:3]"
   ]
  },
  {
   "cell_type": "code",
   "execution_count": 30,
   "metadata": {},
   "outputs": [
    {
     "data": {
      "text/plain": [
       "'Fui visitar a italia e comi uma pizza depois outra pizza'"
      ]
     },
     "execution_count": 30,
     "metadata": {},
     "output_type": "execute_result"
    }
   ],
   "source": [
    "#utilizando o format e evitando repetições\n",
    "\n",
    "'Fui visitar a {0} e comi uma {1} depois outra {1}'.format('italia','pizza')"
   ]
  },
  {
   "cell_type": "code",
   "execution_count": 28,
   "metadata": {},
   "outputs": [
    {
     "data": {
      "text/plain": [
       "'32.5'"
      ]
     },
     "execution_count": 28,
     "metadata": {},
     "output_type": "execute_result"
    }
   ],
   "source": [
    "#formatando numeros \n",
    "\n",
    "'{:2.1f}'.format(32.50000000000)"
   ]
  },
  {
   "cell_type": "code",
   "execution_count": 29,
   "metadata": {},
   "outputs": [],
   "source": [
    "#criando uma lista\n",
    "\n",
    "lista = []\n"
   ]
  },
  {
   "cell_type": "code",
   "execution_count": 30,
   "metadata": {},
   "outputs": [
    {
     "data": {
      "text/plain": [
       "139652406698568"
      ]
     },
     "execution_count": 30,
     "metadata": {},
     "output_type": "execute_result"
    }
   ],
   "source": [
    "# adicionando valores a lista\n",
    "lista.append(2)\n",
    "lista.append(3)\n",
    "\n",
    "id(lista)"
   ]
  },
  {
   "cell_type": "code",
   "execution_count": 31,
   "metadata": {},
   "outputs": [
    {
     "name": "stdout",
     "output_type": "stream",
     "text": [
      "(1, 2, 3)\n"
     ]
    }
   ],
   "source": [
    "# criando tupla\n",
    "# 139652407621096\n",
    "x = tuple({1,2,3})\n",
    "print(x)\n"
   ]
  },
  {
   "cell_type": "code",
   "execution_count": 32,
   "metadata": {},
   "outputs": [],
   "source": [
    "# retornando valores da tupla\n",
    "def retornando_tupla():\n",
    "    return 123,'retorno',1.2"
   ]
  },
  {
   "cell_type": "code",
   "execution_count": 34,
   "metadata": {},
   "outputs": [
    {
     "name": "stdout",
     "output_type": "stream",
     "text": [
      "123\n",
      "retorno\n",
      "1.2\n"
     ]
    }
   ],
   "source": [
    "# visualizando os valores\n",
    "x , y , z = retornando_tupla()\n",
    "print(x)\n",
    "print(y)\n",
    "print(z)"
   ]
  },
  {
   "cell_type": "code",
   "execution_count": 71,
   "metadata": {},
   "outputs": [
    {
     "data": {
      "text/plain": [
       "[2, 4, 5]"
      ]
     },
     "execution_count": 71,
     "metadata": {},
     "output_type": "execute_result"
    }
   ],
   "source": [
    "#  append,remove,pop\n",
    "lista = [1,2,3,4]\n",
    "lista.append(5) # adiciona valor na lista\n",
    "lista.pop(2) # remove pelo index\n",
    "lista.remove(1) #remove o valor da lista e não o index\n",
    "lista"
   ]
  },
  {
   "cell_type": "code",
   "execution_count": 78,
   "metadata": {},
   "outputs": [
    {
     "data": {
      "text/plain": [
       "11"
      ]
     },
     "execution_count": 78,
     "metadata": {},
     "output_type": "execute_result"
    }
   ],
   "source": [
    "# .len , .min , .max , . sum\n",
    "\n",
    "len(lista) # informa o tamanho da lista\n",
    "min(lista) # informa o menor valor\n",
    "max(lista) #informa o maior valor\n",
    "sum(lista) #soma valores da lista"
   ]
  },
  {
   "cell_type": "code",
   "execution_count": 31,
   "metadata": {
    "scrolled": true
   },
   "outputs": [
    {
     "name": "stdout",
     "output_type": "stream",
     "text": [
      "{'s', 'breno'}\n"
     ]
    }
   ],
   "source": [
    "# Diferenças entre set() e frozenset()\n",
    "# set() = mutável\n",
    "# frozenset() = imutável\n",
    "\n",
    "s = {'breno'}\n",
    "s.add('s')\n",
    "print(s)\n"
   ]
  },
  {
   "cell_type": "code",
   "execution_count": 29,
   "metadata": {},
   "outputs": [
    {
     "name": "stdout",
     "output_type": "stream",
     "text": [
      "{1, 2, 3, 4, 5, 6, 7}\n",
      "{4}\n",
      "{1, 2, 3}\n"
     ]
    }
   ],
   "source": [
    "# Operações de conjuntos utilizando set's\n",
    "\n",
    "a = {1,2,3,4}\n",
    "b = {4,5,6,7}\n",
    "\n",
    "print( a | b ) #união\n",
    "print( a & b ) # intersecção\n",
    "print ( a - b ) # diferença\n",
    "\n"
   ]
  },
  {
   "cell_type": "code",
   "execution_count": 32,
   "metadata": {},
   "outputs": [
    {
     "name": "stdout",
     "output_type": "stream",
     "text": [
      "({1: 4, 2: 3}, {2, 3})\n",
      "3\n"
     ]
    }
   ],
   "source": [
    "# dicionario e set dentro de uma tupla, convertendo tupla em list e adicionando mais um elemento\n",
    "\n",
    "tuple = ({1:4,2:3},{2})\n",
    "\n",
    "tuple[(1)].add(3)\n",
    "print(tuple)\n",
    "\n",
    "print(tuple[(0)].get(2))\n"
   ]
  },
  {
   "cell_type": "code",
   "execution_count": 2,
   "metadata": {},
   "outputs": [
    {
     "name": "stdout",
     "output_type": "stream",
     "text": [
      "segundo\n",
      "(5, 'quinto')\n",
      "primeiro\n",
      "{2: 'segundo', 3: 'PRIMEIRO', 4: 'quarto', 6: 'sexto'}\n"
     ]
    }
   ],
   "source": [
    "# criando dicionário \n",
    "\n",
    "dicionario = {1:'primeiro',2:'segundo',3:'terceiro',4:'quarto',5:'quinto'}\n",
    "\n",
    "# retorna o valor do hash\n",
    "print(dicionario.get(2))\n",
    "\n",
    "# remove o ultimo valor\n",
    "print(dicionario.popitem())\n",
    "# remove pelo hash\n",
    "print(dicionario.pop(1))\n",
    "\n",
    "# update\n",
    "dicionario.update({3:'PRIMEIRO'})\n",
    "# adicionando\n",
    "\n",
    "dicionario[6] = 'sexto'\n",
    "\n",
    "\n",
    "print(dicionario)"
   ]
  },
  {
   "cell_type": "code",
   "execution_count": 16,
   "metadata": {},
   "outputs": [
    {
     "name": "stdout",
     "output_type": "stream",
     "text": [
      "[2, 4, 6, 8]\n"
     ]
    }
   ],
   "source": [
    "# SEM LIST COMPREHENSIONS\n",
    "\n",
    "list_comprehensions = [1,2,3,4]\n",
    "out = []\n",
    "for l in list_comprehensions:\n",
    "    out.append(l*2)\n",
    "\n",
    "    \n",
    "\n",
    "print(out)"
   ]
  },
  {
   "cell_type": "code",
   "execution_count": 19,
   "metadata": {},
   "outputs": [
    {
     "name": "stdout",
     "output_type": "stream",
     "text": [
      "[2, 4, 6, 8]\n"
     ]
    }
   ],
   "source": [
    "# COM List comprehension\n",
    "\n",
    "list_comprehensions = [1,2,3,4]\n",
    "\n",
    "\n",
    "lista = [item*2 for item in list_comprehensions]\n",
    "\n",
    "print(lista)"
   ]
  }
 ],
 "metadata": {
  "kernelspec": {
   "display_name": "Python 3",
   "language": "python",
   "name": "python3"
  },
  "language_info": {
   "codemirror_mode": {
    "name": "ipython",
    "version": 3
   },
   "file_extension": ".py",
   "mimetype": "text/x-python",
   "name": "python",
   "nbconvert_exporter": "python",
   "pygments_lexer": "ipython3",
   "version": "3.7.3"
  }
 },
 "nbformat": 4,
 "nbformat_minor": 2
}
