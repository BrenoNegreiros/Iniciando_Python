{
 "cells": [
  {
   "cell_type": "code",
   "execution_count": 19,
   "metadata": {},
   "outputs": [
    {
     "name": "stdout",
     "output_type": "stream",
     "text": [
      "adição -> 2\n",
      "subtração -> 2\n",
      "multiplicação - > 6\n",
      "potência -> 9\n"
     ]
    }
   ],
   "source": [
    "# Aplicando operações matemáticas e convertendo em string\n",
    "\n",
    "print('adição -> ' + str (1+1))\n",
    "print('subtração -> ' + str(4-2))\n",
    "print('multiplicação - > ' + str(2*3))\n",
    "print('potência -> '+str(3**2))"
   ]
  },
  {
   "cell_type": "code",
   "execution_count": 4,
   "metadata": {},
   "outputs": [
    {
     "data": {
      "text/plain": [
       "'200'"
      ]
     },
     "execution_count": 4,
     "metadata": {},
     "output_type": "execute_result"
    }
   ],
   "source": [
    "# Testando o conceito de váriavel\n",
    "\n",
    "x = 150\n",
    "\n",
    "y = 50\n",
    "\n",
    "result = x + y\n",
    "\n",
    "str(result)"
   ]
  },
  {
   "cell_type": "code",
   "execution_count": 17,
   "metadata": {},
   "outputs": [
    {
     "data": {
      "text/plain": [
       "'Bre'"
      ]
     },
     "execution_count": 17,
     "metadata": {},
     "output_type": "execute_result"
    }
   ],
   "source": [
    "#pegando posições de uma String\n",
    "\n",
    "'Breno'[0:3]"
   ]
  },
  {
   "cell_type": "code",
   "execution_count": 30,
   "metadata": {},
   "outputs": [
    {
     "data": {
      "text/plain": [
       "'Fui visitar a italia e comi uma pizza depois outra pizza'"
      ]
     },
     "execution_count": 30,
     "metadata": {},
     "output_type": "execute_result"
    }
   ],
   "source": [
    "#utilizando o format e evitando repetições\n",
    "\n",
    "'Fui visitar a {0} e comi uma {1} depois outra {1}'.format('italia','pizza')"
   ]
  },
  {
   "cell_type": "code",
   "execution_count": 28,
   "metadata": {},
   "outputs": [
    {
     "data": {
      "text/plain": [
       "'32.5'"
      ]
     },
     "execution_count": 28,
     "metadata": {},
     "output_type": "execute_result"
    }
   ],
   "source": [
    "#formatando numeros \n",
    "\n",
    "'{:2.1f}'.format(32.50000000000)"
   ]
  },
  {
   "cell_type": "code",
   "execution_count": 29,
   "metadata": {},
   "outputs": [],
   "source": [
    "#criando uma lista\n",
    "\n",
    "lista = []\n"
   ]
  },
  {
   "cell_type": "code",
   "execution_count": 30,
   "metadata": {},
   "outputs": [
    {
     "data": {
      "text/plain": [
       "139652406698568"
      ]
     },
     "execution_count": 30,
     "metadata": {},
     "output_type": "execute_result"
    }
   ],
   "source": [
    "# adicionando valores a lista\n",
    "lista.append(2)\n",
    "lista.append(3)\n",
    "\n",
    "id(lista)"
   ]
  },
  {
   "cell_type": "code",
   "execution_count": 31,
   "metadata": {},
   "outputs": [
    {
     "name": "stdout",
     "output_type": "stream",
     "text": [
      "(1, 2, 3)\n"
     ]
    }
   ],
   "source": [
    "# criando tupla\n",
    "# 139652407621096\n",
    "x = tuple({1,2,3})\n",
    "print(x)\n"
   ]
  },
  {
   "cell_type": "code",
   "execution_count": 32,
   "metadata": {},
   "outputs": [],
   "source": [
    "# retornando valores da tupla\n",
    "def retornando_tupla():\n",
    "    return 123,'retorno',1.2"
   ]
  },
  {
   "cell_type": "code",
   "execution_count": 34,
   "metadata": {},
   "outputs": [
    {
     "name": "stdout",
     "output_type": "stream",
     "text": [
      "123\n",
      "retorno\n",
      "1.2\n"
     ]
    }
   ],
   "source": [
    "# visualizando os valores\n",
    "x , y , z = retornando_tupla()\n",
    "print(x)\n",
    "print(y)\n",
    "print(z)"
   ]
  },
  {
   "cell_type": "code",
   "execution_count": 71,
   "metadata": {},
   "outputs": [
    {
     "data": {
      "text/plain": [
       "[2, 4, 5]"
      ]
     },
     "execution_count": 71,
     "metadata": {},
     "output_type": "execute_result"
    }
   ],
   "source": [
    "#  append,remove,pop\n",
    "lista = [1,2,3,4]\n",
    "lista.append(5) # adiciona valor na lista\n",
    "lista.pop(2) # remove pelo index\n",
    "lista.remove(1) #remove o valor da lista e não o index\n",
    "lista"
   ]
  },
  {
   "cell_type": "code",
   "execution_count": 78,
   "metadata": {},
   "outputs": [
    {
     "data": {
      "text/plain": [
       "11"
      ]
     },
     "execution_count": 78,
     "metadata": {},
     "output_type": "execute_result"
    }
   ],
   "source": [
    "# .len , .min , .max , . sum\n",
    "\n",
    "len(lista) # informa o tamanho da lista\n",
    "min(lista) # informa o menor valor\n",
    "max(lista) #informa o maior valor\n",
    "sum(lista) #soma valores da lista"
   ]
  },
  {
   "cell_type": "code",
   "execution_count": 6,
   "metadata": {
    "scrolled": true
   },
   "outputs": [
    {
     "data": {
      "text/plain": [
       "{'b', 'e', 'n', 'o', 'r'}"
      ]
     },
     "execution_count": 6,
     "metadata": {},
     "output_type": "execute_result"
    }
   ],
   "source": [
    "# Diferenças entre set() e frozenset()\n",
    "# set() = mutável\n",
    "# frozenset() = imutável\n",
    "\n",
    "s = set('breno')\n",
    "\n",
    "s\n",
    "\n",
    "\n",
    "\n"
   ]
  },
  {
   "cell_type": "code",
   "execution_count": 10,
   "metadata": {},
   "outputs": [
    {
     "name": "stdout",
     "output_type": "stream",
     "text": [
      "{'1', '4', '3', '2'}\n",
      "{1, 2, 3, 4, 5, 6, 7}\n"
     ]
    }
   ],
   "source": [
    "# Operações de conjuntos\n",
    "# | união  & intersecção - Diferença\n",
    "\n",
    "a = {1,2,3,4}\n",
    "b = {4,5,6,7}\n",
    "\n",
    "print(a | b)"
   ]
  }
 ],
 "metadata": {
  "kernelspec": {
   "display_name": "Python 3",
   "language": "python",
   "name": "python3"
  },
  "language_info": {
   "codemirror_mode": {
    "name": "ipython",
    "version": 3
   },
   "file_extension": ".py",
   "mimetype": "text/x-python",
   "name": "python",
   "nbconvert_exporter": "python",
   "pygments_lexer": "ipython3",
   "version": "3.7.3"
  }
 },
 "nbformat": 4,
 "nbformat_minor": 2
}
