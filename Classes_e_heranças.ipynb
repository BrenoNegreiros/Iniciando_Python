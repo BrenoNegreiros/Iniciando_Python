{
 "cells": [
  {
   "cell_type": "code",
   "execution_count": 1,
   "metadata": {},
   "outputs": [
    {
     "name": "stdout",
     "output_type": "stream",
     "text": [
      "breno esta estudando\n",
      "BrenoRaivoso esta estudando com raiva\n"
     ]
    }
   ],
   "source": [
    "# criando classe\n",
    "class pessoa():\n",
    "    nome = '' \n",
    "    idade = ''\n",
    "    \n",
    "    def estudando(pessoa):\n",
    "        print(pessoa.nome + ' esta estudando')\n",
    "\n",
    "# herança\n",
    "class PessoaRaivosa(pessoa):\n",
    "    \n",
    "    def estudando_com_raiva(pessoa):\n",
    "        print(pessoa.nome + ' esta estudando com raiva')\n",
    "\n",
    "breno = pessoa()\n",
    "\n",
    "breno.nome = 'breno'\n",
    "\n",
    "breno.idade = '25'\n",
    "\n",
    "breno.estudando()\n",
    "#------------------------------------------------------\n",
    "\n",
    "\n",
    "brenoRaivoso = PessoaRaivosa()\n",
    "\n",
    "brenoRaivoso.nome = 'BrenoRaivoso'\n",
    "\n",
    "brenoRaivoso.estudando_com_raiva()"
   ]
  }
 ],
 "metadata": {
  "kernelspec": {
   "display_name": "Python 3",
   "language": "python",
   "name": "python3"
  },
  "language_info": {
   "codemirror_mode": {
    "name": "ipython",
    "version": 3
   },
   "file_extension": ".py",
   "mimetype": "text/x-python",
   "name": "python",
   "nbconvert_exporter": "python",
   "pygments_lexer": "ipython3",
   "version": "3.7.3"
  }
 },
 "nbformat": 4,
 "nbformat_minor": 4
}
