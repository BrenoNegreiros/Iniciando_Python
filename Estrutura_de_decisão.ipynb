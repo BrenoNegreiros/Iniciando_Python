{
 "cells": [
  {
   "cell_type": "code",
   "execution_count": 43,
   "metadata": {},
   "outputs": [
    {
     "name": "stdout",
     "output_type": "stream",
     "text": [
      "falta 5 reais para você entrar na festa \n"
     ]
    }
   ],
   "source": [
    "# entendendo if\n",
    "\n",
    "valor_festa = 20\n",
    "\n",
    "valor_pago = 15\n",
    "\n",
    "if( valor_pago < valor_festa) :\n",
    "    \n",
    "     print(('falta {} reais para você entrar na festa ').format(valor_festa-valor_pago))\n",
    "\n",
    "elif(valor_pago>valor_festa):\n",
    "\n",
    "    print(('você pagou {} reais a mais , a festa é apenas {}').format(valor_pago-valor_festa,valor_festa))\n",
    "\n",
    "else:\n",
    "     print(('pagamento efetuado com sucesso, você já pode entrar na festa!'))"
   ]
  }
 ],
 "metadata": {
  "kernelspec": {
   "display_name": "Python 3",
   "language": "python",
   "name": "python3"
  },
  "language_info": {
   "codemirror_mode": {
    "name": "ipython",
    "version": 3
   },
   "file_extension": ".py",
   "mimetype": "text/x-python",
   "name": "python",
   "nbconvert_exporter": "python",
   "pygments_lexer": "ipython3",
   "version": "3.7.3"
  }
 },
 "nbformat": 4,
 "nbformat_minor": 2
}
