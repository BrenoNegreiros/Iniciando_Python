{
 "cells": [
  {
   "cell_type": "code",
   "execution_count": 1,
   "metadata": {},
   "outputs": [
    {
     "name": "stdout",
     "output_type": "stream",
     "text": [
      "b\n",
      "r\n",
      "e\n",
      "n\n",
      "o\n",
      "for do python tem um else\n"
     ]
    }
   ],
   "source": [
    "# utilizando o for\n",
    "\n",
    "for letra in \"breno\":\n",
    "\n",
    "    print(letra)\n",
    "    \n",
    "else:\n",
    "    print('for do python tem um else')"
   ]
  },
  {
   "cell_type": "code",
   "execution_count": 12,
   "metadata": {},
   "outputs": [
    {
     "name": "stdout",
     "output_type": "stream",
     "text": [
      "breno tem 25 de idade\n",
      "augusto tem 59 de idade\n",
      "auciliadora tem 55 de idade\n"
     ]
    }
   ],
   "source": [
    "\n",
    "\n",
    "nomes = ['breno', 'augusto', 'auciliadora']\n",
    "idades = ['25', '59', '55']\n",
    "\n",
    "nomes_idades = (zip(nomes,idades))\n",
    "\n",
    "\n",
    "\n",
    "for nomes,idades in nomes_idades:\n",
    "\n",
    "    print('{} tem {} de idade'.format(nomes,idades,))\n",
    "   "
   ]
  },
  {
   "cell_type": "code",
   "execution_count": 13,
   "metadata": {},
   "outputs": [
    {
     "name": "stdout",
     "output_type": "stream",
     "text": [
      "b\n",
      "r\n",
      "e\n",
      "n\n",
      "o\n"
     ]
    }
   ],
   "source": [
    "# utilizando o while\n",
    "\n",
    "i=0\n",
    "while i < len('breno'):\n",
    "    print('breno'[i])\n",
    "    i+= 1"
   ]
  },
  {
   "cell_type": "code",
   "execution_count": 86,
   "metadata": {},
   "outputs": [
    {
     "name": "stdout",
     "output_type": "stream",
     "text": [
      "\n",
      "\n",
      "0 0 0 0 0 \n",
      "\n",
      "0 1 1 1 0 \n",
      "\n",
      "0 1 1 1 0 \n",
      "\n",
      "0 0 0 0 0 "
     ]
    }
   ],
   "source": [
    "# imprimindo matriz em um for\n",
    "\n",
    "matriz = ([[ 0,  0,  0,  0,  0],\n",
    "           [ 0,  1,  1,  1,  0],\n",
    "           [ 0,  1,  1,  1,  0],\n",
    "           [ 0,  0,  0,  0,  0],])\n",
    "\n",
    "  \n",
    "for linha in range(len(matriz)):\n",
    "    print('\\n')\n",
    "    for coluna in range(len(matriz[0])):\n",
    "        print(matriz[linha][coluna], end=' ')\n",
    "       \n"
   ]
  },
  {
   "cell_type": "code",
   "execution_count": 185,
   "metadata": {},
   "outputs": [
    {
     "name": "stdout",
     "output_type": "stream",
     "text": [
      "Esse(a) caderno eu quero\n",
      "Esse(a) caneta eu quero\n",
      "Esse(a) lapis eu NAO quero\n",
      "Esse(a) borracha eu quero\n"
     ]
    }
   ],
   "source": [
    "# clausulas break e continue\n",
    "\n",
    "from random import shuffle \n",
    "objetos = ['caderno','lapis','borracha','caneta']\n",
    "nao_quero = 'lapis'\n",
    "\n",
    "shuffle(objetos)\n",
    "\n",
    "\n",
    "# for objeto in objetos:\n",
    "    \n",
    "#    if(objeto==nao_quero):\n",
    "#        print('Esse(a) {} eu NAO quero'.format(objeto))\n",
    "#    continue    \n",
    "#    print('Esse(a) {} eu quero'.format(objeto))\n",
    "\n",
    "for objeto in objetos:\n",
    "    \n",
    "    if(objeto==nao_quero):\n",
    "        print('Esse(a) {} eu NAO quero'.format(objeto))\n",
    "    break    \n",
    "    print('Esse(a) {} eu quero'.format(objeto))"
   ]
  }
 ],
 "metadata": {
  "kernelspec": {
   "display_name": "Python 3",
   "language": "python",
   "name": "python3"
  },
  "language_info": {
   "codemirror_mode": {
    "name": "ipython",
    "version": 3
   },
   "file_extension": ".py",
   "mimetype": "text/x-python",
   "name": "python",
   "nbconvert_exporter": "python",
   "pygments_lexer": "ipython3",
   "version": "3.7.3"
  }
 },
 "nbformat": 4,
 "nbformat_minor": 2
}
