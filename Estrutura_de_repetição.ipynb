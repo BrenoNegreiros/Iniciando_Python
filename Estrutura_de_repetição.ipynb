{
 "cells": [
  {
   "cell_type": "code",
   "execution_count": 1,
   "metadata": {},
   "outputs": [
    {
     "name": "stdout",
     "output_type": "stream",
     "text": [
      "b\n",
      "r\n",
      "e\n",
      "n\n",
      "o\n",
      "for do python tem um else\n"
     ]
    }
   ],
   "source": [
    "# utilizando o for\n",
    "\n",
    "for letra in \"breno\":\n",
    "\n",
    "    print(letra)\n",
    "    \n",
    "else:\n",
    "    print('for do python tem um else')"
   ]
  },
  {
   "cell_type": "code",
   "execution_count": 14,
   "metadata": {},
   "outputs": [
    {
     "name": "stdout",
     "output_type": "stream",
     "text": [
      "breno tem 25 de idade\n",
      "augusto tem 59 de idade\n",
      "auciliadora tem 55 de idade\n"
     ]
    }
   ],
   "source": [
    "nomes = ['breno', 'augusto', 'auciliadora']\n",
    "idades = ['25', '59', '55']\n",
    "\n",
    "nomes_idades = (zip(nomes,idades))\n",
    "\n",
    "\n",
    "\n",
    "for nomes,idades in nomes_idades:\n",
    "\n",
    "    print('{} tem {} de idade'.format(nomes,idades,))\n",
    "   "
   ]
  }
 ],
 "metadata": {
  "kernelspec": {
   "display_name": "Python 3",
   "language": "python",
   "name": "python3"
  },
  "language_info": {
   "codemirror_mode": {
    "name": "ipython",
    "version": 3
   },
   "file_extension": ".py",
   "mimetype": "text/x-python",
   "name": "python",
   "nbconvert_exporter": "python",
   "pygments_lexer": "ipython3",
   "version": "3.7.3"
  }
 },
 "nbformat": 4,
 "nbformat_minor": 2
}
